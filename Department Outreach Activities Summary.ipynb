{
 "cells": [
  {
   "cell_type": "markdown",
   "metadata": {},
   "source": [
    "# Summary of Department Outreach Activities as at 10 June 2021"
   ]
  },
  {
   "cell_type": "markdown",
   "metadata": {},
   "source": [
    "## 12 May International women in Mathematics' Day "
   ]
  },
  {
   "cell_type": "markdown",
   "metadata": {},
   "source": [
    "* Event description\n",
    "\n",
    "On May 12, the department held an Australian Women of Mathematics Exhibition that features 16 Australian Women in Mathematics--Link with information around the exhibition: https://sites.google.com/view/pierre-portal/australian-women-of-mathematics .\n",
    "\n",
    "Four female mathematicians Silvia Ceccacci, Dr Guo Deng, Dr Sophie Raynor spoke at the event while Dr Sophie Calabretto opened the exhibition. \n",
    "\n",
    "![title](iwm.jpg)\n",
    "\n",
    "\n",
    "\n",
    "* Event remark\n",
    "\n",
    "International Women in Mathematics' Day event was a success, HOD, DM, EA and Outreach Coordinator debriefed on 20 May."
   ]
  },
  {
   "cell_type": "markdown",
   "metadata": {},
   "source": [
    "## Upcoming activities \n",
    "\n",
    "* ACTION BY start of Session 2: HoD to establish formally an Outreach Committee, including TOR. "
   ]
  }
 ],
 "metadata": {
  "kernelspec": {
   "display_name": "Python 3",
   "language": "python",
   "name": "python3"
  },
  "language_info": {
   "codemirror_mode": {
    "name": "ipython",
    "version": 3
   },
   "file_extension": ".py",
   "mimetype": "text/x-python",
   "name": "python",
   "nbconvert_exporter": "python",
   "pygments_lexer": "ipython3",
   "version": "3.8.5"
  }
 },
 "nbformat": 4,
 "nbformat_minor": 4
}
